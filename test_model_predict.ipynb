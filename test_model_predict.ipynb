{
 "cells": [
  {
   "cell_type": "markdown",
   "id": "47b49de6",
   "metadata": {},
   "source": [
    "# Predicting One Variable Based on Another Variable (i.e. Choosing the Right Medication to Avoid Side Effects)"
   ]
  },
  {
   "cell_type": "markdown",
   "id": "c786b3d2",
   "metadata": {},
   "source": [
    "In this notebook, we will explore two approaches to solve a prediction problem. Our goal is to accurately predict the value of one variable based on specific characteristics. To illustrate this more clearly, let's consider a simple example: in the medical field, we need to choose the appropriate medication for a patient based on their characteristics to avoid undesirable side effects. However, this prediction model can be applied to various scenarios, especially in the field of medicine."
   ]
  },
  {
   "cell_type": "markdown",
   "id": "550ca3c4",
   "metadata": {},
   "source": [
    "# generate random data"
   ]
  },
  {
   "cell_type": "markdown",
   "id": "53df2e7d",
   "metadata": {},
   "source": [
    "\"We randomly generate this data to better explain the problem. The chosen variables are not relevant. We generate two numerical variables, 'White Blood Cells' and 'Hemoglobin,' and a categorical variable, 'Sex' (0 and 1). We also generate a binary variable for medication (0 and 1) for two types of drugs. Finally, we generate a categorical variable, 'Side Effects' (0 and 1), where 0 means no adverse effects. Our goal is to select the wright 'medication' where 'side effects' = 0"
   ]
  },
  {
   "cell_type": "code",
   "execution_count": 132,
   "id": "75e9a5c7",
   "metadata": {
    "scrolled": true
   },
   "outputs": [
    {
     "data": {
      "text/html": [
       "<div>\n",
       "<style scoped>\n",
       "    .dataframe tbody tr th:only-of-type {\n",
       "        vertical-align: middle;\n",
       "    }\n",
       "\n",
       "    .dataframe tbody tr th {\n",
       "        vertical-align: top;\n",
       "    }\n",
       "\n",
       "    .dataframe thead th {\n",
       "        text-align: right;\n",
       "    }\n",
       "</style>\n",
       "<table border=\"1\" class=\"dataframe\">\n",
       "  <thead>\n",
       "    <tr style=\"text-align: right;\">\n",
       "      <th></th>\n",
       "      <th>Wb</th>\n",
       "      <th>Hb</th>\n",
       "      <th>sexe</th>\n",
       "      <th>medication</th>\n",
       "      <th>Side_Effects</th>\n",
       "    </tr>\n",
       "  </thead>\n",
       "  <tbody>\n",
       "    <tr>\n",
       "      <th>0</th>\n",
       "      <td>13.745401</td>\n",
       "      <td>13.110798</td>\n",
       "      <td>1</td>\n",
       "      <td>0</td>\n",
       "      <td>0</td>\n",
       "    </tr>\n",
       "    <tr>\n",
       "      <th>1</th>\n",
       "      <td>19.507143</td>\n",
       "      <td>15.251406</td>\n",
       "      <td>0</td>\n",
       "      <td>0</td>\n",
       "      <td>0</td>\n",
       "    </tr>\n",
       "    <tr>\n",
       "      <th>2</th>\n",
       "      <td>17.319939</td>\n",
       "      <td>17.237675</td>\n",
       "      <td>0</td>\n",
       "      <td>0</td>\n",
       "      <td>0</td>\n",
       "    </tr>\n",
       "    <tr>\n",
       "      <th>3</th>\n",
       "      <td>15.986585</td>\n",
       "      <td>16.393349</td>\n",
       "      <td>0</td>\n",
       "      <td>0</td>\n",
       "      <td>1</td>\n",
       "    </tr>\n",
       "    <tr>\n",
       "      <th>4</th>\n",
       "      <td>11.560186</td>\n",
       "      <td>16.839367</td>\n",
       "      <td>1</td>\n",
       "      <td>1</td>\n",
       "      <td>0</td>\n",
       "    </tr>\n",
       "  </tbody>\n",
       "</table>\n",
       "</div>"
      ],
      "text/plain": [
       "          Wb         Hb  sexe  medication  Side_Effects\n",
       "0  13.745401  13.110798     1           0             0\n",
       "1  19.507143  15.251406     0           0             0\n",
       "2  17.319939  17.237675     0           0             0\n",
       "3  15.986585  16.393349     0           0             1\n",
       "4  11.560186  16.839367     1           1             0"
      ]
     },
     "execution_count": 132,
     "metadata": {},
     "output_type": "execute_result"
    }
   ],
   "source": [
    "import pandas as pd\n",
    "import numpy as np\n",
    "\n",
    "n = 1000  # Nombre d'échantillons\n",
    "\n",
    "np.random.seed(42) \n",
    "Wb = np.random.uniform(10, 20, n)  \n",
    "Hb = np.random.uniform(12, 18, n)  \n",
    "\n",
    "sexe = np.random.choice([0, 1], n)\n",
    "\n",
    "medication = np.random.choice([0, 1], n)\n",
    "\n",
    "Side_Effects = np.random.choice([0, 1], n)\n",
    "\n",
    "# Création de la base de données\n",
    "df = pd.DataFrame({'Wb': Wb, 'Hb': Hb, 'sexe': sexe, 'medication': medication, 'Side_Effects': Side_Effects})\n",
    "\n",
    "df.head()"
   ]
  },
  {
   "cell_type": "markdown",
   "id": "fa57fb63",
   "metadata": {},
   "source": [
    "# Approach 1 :"
   ]
  },
  {
   "cell_type": "markdown",
   "id": "851542f7",
   "metadata": {},
   "source": [
    "For this approach, we divide our data into two parts. One part where 'side_effects' = 0, and the other where 'side_effects' = 1. For each of these datasets, we create two models that would predict the medication for the subjects. The first one will predict the medication that does not cause adverse effects, and the second one will predict the medication that causes adverse effects. Finally, we will add the two probabilities of predictions to determine which medication to administer to the patient to avoid adverse effects."
   ]
  },
  {
   "cell_type": "markdown",
   "id": "0e0c82f6",
   "metadata": {},
   "source": [
    "## model no side effect"
   ]
  },
  {
   "cell_type": "code",
   "execution_count": 133,
   "id": "b3541bbe",
   "metadata": {
    "scrolled": true
   },
   "outputs": [
    {
     "data": {
      "text/html": [
       "<style>#sk-container-id-8 {color: black;background-color: white;}#sk-container-id-8 pre{padding: 0;}#sk-container-id-8 div.sk-toggleable {background-color: white;}#sk-container-id-8 label.sk-toggleable__label {cursor: pointer;display: block;width: 100%;margin-bottom: 0;padding: 0.3em;box-sizing: border-box;text-align: center;}#sk-container-id-8 label.sk-toggleable__label-arrow:before {content: \"▸\";float: left;margin-right: 0.25em;color: #696969;}#sk-container-id-8 label.sk-toggleable__label-arrow:hover:before {color: black;}#sk-container-id-8 div.sk-estimator:hover label.sk-toggleable__label-arrow:before {color: black;}#sk-container-id-8 div.sk-toggleable__content {max-height: 0;max-width: 0;overflow: hidden;text-align: left;background-color: #f0f8ff;}#sk-container-id-8 div.sk-toggleable__content pre {margin: 0.2em;color: black;border-radius: 0.25em;background-color: #f0f8ff;}#sk-container-id-8 input.sk-toggleable__control:checked~div.sk-toggleable__content {max-height: 200px;max-width: 100%;overflow: auto;}#sk-container-id-8 input.sk-toggleable__control:checked~label.sk-toggleable__label-arrow:before {content: \"▾\";}#sk-container-id-8 div.sk-estimator input.sk-toggleable__control:checked~label.sk-toggleable__label {background-color: #d4ebff;}#sk-container-id-8 div.sk-label input.sk-toggleable__control:checked~label.sk-toggleable__label {background-color: #d4ebff;}#sk-container-id-8 input.sk-hidden--visually {border: 0;clip: rect(1px 1px 1px 1px);clip: rect(1px, 1px, 1px, 1px);height: 1px;margin: -1px;overflow: hidden;padding: 0;position: absolute;width: 1px;}#sk-container-id-8 div.sk-estimator {font-family: monospace;background-color: #f0f8ff;border: 1px dotted black;border-radius: 0.25em;box-sizing: border-box;margin-bottom: 0.5em;}#sk-container-id-8 div.sk-estimator:hover {background-color: #d4ebff;}#sk-container-id-8 div.sk-parallel-item::after {content: \"\";width: 100%;border-bottom: 1px solid gray;flex-grow: 1;}#sk-container-id-8 div.sk-label:hover label.sk-toggleable__label {background-color: #d4ebff;}#sk-container-id-8 div.sk-serial::before {content: \"\";position: absolute;border-left: 1px solid gray;box-sizing: border-box;top: 0;bottom: 0;left: 50%;z-index: 0;}#sk-container-id-8 div.sk-serial {display: flex;flex-direction: column;align-items: center;background-color: white;padding-right: 0.2em;padding-left: 0.2em;position: relative;}#sk-container-id-8 div.sk-item {position: relative;z-index: 1;}#sk-container-id-8 div.sk-parallel {display: flex;align-items: stretch;justify-content: center;background-color: white;position: relative;}#sk-container-id-8 div.sk-item::before, #sk-container-id-8 div.sk-parallel-item::before {content: \"\";position: absolute;border-left: 1px solid gray;box-sizing: border-box;top: 0;bottom: 0;left: 50%;z-index: -1;}#sk-container-id-8 div.sk-parallel-item {display: flex;flex-direction: column;z-index: 1;position: relative;background-color: white;}#sk-container-id-8 div.sk-parallel-item:first-child::after {align-self: flex-end;width: 50%;}#sk-container-id-8 div.sk-parallel-item:last-child::after {align-self: flex-start;width: 50%;}#sk-container-id-8 div.sk-parallel-item:only-child::after {width: 0;}#sk-container-id-8 div.sk-dashed-wrapped {border: 1px dashed gray;margin: 0 0.4em 0.5em 0.4em;box-sizing: border-box;padding-bottom: 0.4em;background-color: white;}#sk-container-id-8 div.sk-label label {font-family: monospace;font-weight: bold;display: inline-block;line-height: 1.2em;}#sk-container-id-8 div.sk-label-container {text-align: center;}#sk-container-id-8 div.sk-container {/* jupyter's `normalize.less` sets `[hidden] { display: none; }` but bootstrap.min.css set `[hidden] { display: none !important; }` so we also need the `!important` here to be able to override the default hidden behavior on the sphinx rendered scikit-learn.org. See: https://github.com/scikit-learn/scikit-learn/issues/21755 */display: inline-block !important;position: relative;}#sk-container-id-8 div.sk-text-repr-fallback {display: none;}</style><div id=\"sk-container-id-8\" class=\"sk-top-container\"><div class=\"sk-text-repr-fallback\"><pre>RandomForestClassifier(random_state=42)</pre><b>In a Jupyter environment, please rerun this cell to show the HTML representation or trust the notebook. <br />On GitHub, the HTML representation is unable to render, please try loading this page with nbviewer.org.</b></div><div class=\"sk-container\" hidden><div class=\"sk-item\"><div class=\"sk-estimator sk-toggleable\"><input class=\"sk-toggleable__control sk-hidden--visually\" id=\"sk-estimator-id-8\" type=\"checkbox\" checked><label for=\"sk-estimator-id-8\" class=\"sk-toggleable__label sk-toggleable__label-arrow\">RandomForestClassifier</label><div class=\"sk-toggleable__content\"><pre>RandomForestClassifier(random_state=42)</pre></div></div></div></div></div>"
      ],
      "text/plain": [
       "RandomForestClassifier(random_state=42)"
      ]
     },
     "execution_count": 133,
     "metadata": {},
     "output_type": "execute_result"
    }
   ],
   "source": [
    "import pandas as pd\n",
    "from sklearn.model_selection import train_test_split\n",
    "from sklearn.ensemble import RandomForestClassifier\n",
    "from sklearn.metrics import accuracy_score, confusion_matrix\n",
    "\n",
    "NoSide_df = df[df['Side_Effects'] == 0]\n",
    "\n",
    "X = NoSide_df[['Wb', 'Hb', 'sexe']]\n",
    "y = NoSide_df['medication'] \n",
    "\n",
    "X_train, X_test, y_train, y_test = train_test_split(X, y, test_size=0.2, random_state=42)\n",
    "\n",
    "modelNoSide = RandomForestClassifier(random_state=42)\n",
    "\n",
    "modelNoSide.fit(X_train, y_train)"
   ]
  },
  {
   "cell_type": "markdown",
   "id": "3957b715",
   "metadata": {},
   "source": [
    "## model side effect"
   ]
  },
  {
   "cell_type": "code",
   "execution_count": 134,
   "id": "bab0a669",
   "metadata": {
    "scrolled": false
   },
   "outputs": [
    {
     "data": {
      "text/html": [
       "<style>#sk-container-id-9 {color: black;background-color: white;}#sk-container-id-9 pre{padding: 0;}#sk-container-id-9 div.sk-toggleable {background-color: white;}#sk-container-id-9 label.sk-toggleable__label {cursor: pointer;display: block;width: 100%;margin-bottom: 0;padding: 0.3em;box-sizing: border-box;text-align: center;}#sk-container-id-9 label.sk-toggleable__label-arrow:before {content: \"▸\";float: left;margin-right: 0.25em;color: #696969;}#sk-container-id-9 label.sk-toggleable__label-arrow:hover:before {color: black;}#sk-container-id-9 div.sk-estimator:hover label.sk-toggleable__label-arrow:before {color: black;}#sk-container-id-9 div.sk-toggleable__content {max-height: 0;max-width: 0;overflow: hidden;text-align: left;background-color: #f0f8ff;}#sk-container-id-9 div.sk-toggleable__content pre {margin: 0.2em;color: black;border-radius: 0.25em;background-color: #f0f8ff;}#sk-container-id-9 input.sk-toggleable__control:checked~div.sk-toggleable__content {max-height: 200px;max-width: 100%;overflow: auto;}#sk-container-id-9 input.sk-toggleable__control:checked~label.sk-toggleable__label-arrow:before {content: \"▾\";}#sk-container-id-9 div.sk-estimator input.sk-toggleable__control:checked~label.sk-toggleable__label {background-color: #d4ebff;}#sk-container-id-9 div.sk-label input.sk-toggleable__control:checked~label.sk-toggleable__label {background-color: #d4ebff;}#sk-container-id-9 input.sk-hidden--visually {border: 0;clip: rect(1px 1px 1px 1px);clip: rect(1px, 1px, 1px, 1px);height: 1px;margin: -1px;overflow: hidden;padding: 0;position: absolute;width: 1px;}#sk-container-id-9 div.sk-estimator {font-family: monospace;background-color: #f0f8ff;border: 1px dotted black;border-radius: 0.25em;box-sizing: border-box;margin-bottom: 0.5em;}#sk-container-id-9 div.sk-estimator:hover {background-color: #d4ebff;}#sk-container-id-9 div.sk-parallel-item::after {content: \"\";width: 100%;border-bottom: 1px solid gray;flex-grow: 1;}#sk-container-id-9 div.sk-label:hover label.sk-toggleable__label {background-color: #d4ebff;}#sk-container-id-9 div.sk-serial::before {content: \"\";position: absolute;border-left: 1px solid gray;box-sizing: border-box;top: 0;bottom: 0;left: 50%;z-index: 0;}#sk-container-id-9 div.sk-serial {display: flex;flex-direction: column;align-items: center;background-color: white;padding-right: 0.2em;padding-left: 0.2em;position: relative;}#sk-container-id-9 div.sk-item {position: relative;z-index: 1;}#sk-container-id-9 div.sk-parallel {display: flex;align-items: stretch;justify-content: center;background-color: white;position: relative;}#sk-container-id-9 div.sk-item::before, #sk-container-id-9 div.sk-parallel-item::before {content: \"\";position: absolute;border-left: 1px solid gray;box-sizing: border-box;top: 0;bottom: 0;left: 50%;z-index: -1;}#sk-container-id-9 div.sk-parallel-item {display: flex;flex-direction: column;z-index: 1;position: relative;background-color: white;}#sk-container-id-9 div.sk-parallel-item:first-child::after {align-self: flex-end;width: 50%;}#sk-container-id-9 div.sk-parallel-item:last-child::after {align-self: flex-start;width: 50%;}#sk-container-id-9 div.sk-parallel-item:only-child::after {width: 0;}#sk-container-id-9 div.sk-dashed-wrapped {border: 1px dashed gray;margin: 0 0.4em 0.5em 0.4em;box-sizing: border-box;padding-bottom: 0.4em;background-color: white;}#sk-container-id-9 div.sk-label label {font-family: monospace;font-weight: bold;display: inline-block;line-height: 1.2em;}#sk-container-id-9 div.sk-label-container {text-align: center;}#sk-container-id-9 div.sk-container {/* jupyter's `normalize.less` sets `[hidden] { display: none; }` but bootstrap.min.css set `[hidden] { display: none !important; }` so we also need the `!important` here to be able to override the default hidden behavior on the sphinx rendered scikit-learn.org. See: https://github.com/scikit-learn/scikit-learn/issues/21755 */display: inline-block !important;position: relative;}#sk-container-id-9 div.sk-text-repr-fallback {display: none;}</style><div id=\"sk-container-id-9\" class=\"sk-top-container\"><div class=\"sk-text-repr-fallback\"><pre>RandomForestClassifier(random_state=42)</pre><b>In a Jupyter environment, please rerun this cell to show the HTML representation or trust the notebook. <br />On GitHub, the HTML representation is unable to render, please try loading this page with nbviewer.org.</b></div><div class=\"sk-container\" hidden><div class=\"sk-item\"><div class=\"sk-estimator sk-toggleable\"><input class=\"sk-toggleable__control sk-hidden--visually\" id=\"sk-estimator-id-9\" type=\"checkbox\" checked><label for=\"sk-estimator-id-9\" class=\"sk-toggleable__label sk-toggleable__label-arrow\">RandomForestClassifier</label><div class=\"sk-toggleable__content\"><pre>RandomForestClassifier(random_state=42)</pre></div></div></div></div></div>"
      ],
      "text/plain": [
       "RandomForestClassifier(random_state=42)"
      ]
     },
     "execution_count": 134,
     "metadata": {},
     "output_type": "execute_result"
    }
   ],
   "source": [
    "import pandas as pd\n",
    "from sklearn.model_selection import train_test_split\n",
    "from sklearn.ensemble import RandomForestClassifier\n",
    "from sklearn.metrics import accuracy_score, confusion_matrix\n",
    "\n",
    "# Filtrage des échantillons où 'effet_indesirables' est égal à 0\n",
    "Side_df = df[df['Side_Effects'] == 1]\n",
    "\n",
    "X = Side_df[['Wb', 'Hb', 'sexe']]\n",
    "y = Side_df['medication']  \n",
    "\n",
    "X_train, X_test, y_train, y_test = train_test_split(X, y, test_size=0.2, random_state=42)\n",
    "\n",
    "modelSide = RandomForestClassifier(random_state=42)\n",
    "\n",
    "modelSide.fit(X_train, y_train)"
   ]
  },
  {
   "cell_type": "markdown",
   "id": "c62cb663",
   "metadata": {},
   "source": [
    "## New data : "
   ]
  },
  {
   "cell_type": "code",
   "execution_count": 135,
   "id": "0bd777c3",
   "metadata": {},
   "outputs": [],
   "source": [
    "new_Wb =19.74\n",
    "new_Hb = 19.11\t\n",
    "new_sexe = 0\n",
    "\n",
    "new_data = pd.DataFrame({'Wb': [new_Wb], 'Hb': [new_Hb], 'sexe': [new_sexe]})"
   ]
  },
  {
   "cell_type": "markdown",
   "id": "4c1e225a",
   "metadata": {},
   "source": [
    "## prediction No Side effect"
   ]
  },
  {
   "cell_type": "code",
   "execution_count": 136,
   "id": "0d0cead9",
   "metadata": {
    "scrolled": true
   },
   "outputs": [],
   "source": [
    "prediction_medicamentNoside = modelNoSide.predict(new_data)\n",
    "\n",
    "proba_prediction_medicamentNoside = modelNoSide.predict_proba(new_data)\n",
    "\n",
    "probability_class_NOSide0 = proba_prediction_medicamentNoside[0, 0] \n",
    "probability_class_NoSide1 = proba_prediction_medicamentNoside[0, 1]  "
   ]
  },
  {
   "cell_type": "markdown",
   "id": "8357d245",
   "metadata": {},
   "source": [
    "## prediction Side effect"
   ]
  },
  {
   "cell_type": "code",
   "execution_count": 137,
   "id": "61e61238",
   "metadata": {
    "scrolled": true
   },
   "outputs": [],
   "source": [
    "prediction_medicamentSide = modelSide.predict(new_data)\n",
    "\n",
    "# Utilisation du modèle pour faire une prédiction de probabilité sur le médicament approprié\n",
    "proba_prediction_medicamentSide = modelSide.predict_proba(new_data)\n",
    "\n",
    "# La variable proba_prediction_medicament contient les probabilités pour chaque classe de sortie.\n",
    "probability_class_Side0 = proba_prediction_medicamentSide[0, 0] \n",
    "probability_class_Side1 = proba_prediction_medicamentSide[0, 1]  "
   ]
  },
  {
   "cell_type": "markdown",
   "id": "5ae65ba1",
   "metadata": {},
   "source": [
    "## combined probabilities"
   ]
  },
  {
   "cell_type": "code",
   "execution_count": 138,
   "id": "d611a074",
   "metadata": {},
   "outputs": [
    {
     "name": "stdout",
     "output_type": "stream",
     "text": [
      "medication = 1 does not have side effects with a probability of  0.615\n"
     ]
    }
   ],
   "source": [
    "if prediction_medicamentNoside[0] != prediction_medicamentSide[0]: \n",
    "    max_probability_modelNoSide = max(probability_class_NOSide0, probability_class_NoSide1)\n",
    "    max_probability_modelSide = max(probability_class_Side0, probability_class_Side1)\n",
    "    average_max_probability = (max_probability_modelNoSide + max_probability_modelSide) / 2.0\n",
    "    if average_max_probability >= 0.5 :\n",
    "        print(\"medication =\", prediction_medicamentNoside[0], \"does not have side effects with a probability of \",\n",
    "            average_max_probability )\n",
    "    else: \n",
    "        print(\"medication =\",1- prediction_medicamentNoside[0], \"does not have side effects with a probability of \",\n",
    "            1-average_max_probability )\n",
    "else:\n",
    "    max_probability_modelNoSide = max(probability_class_NOSide0, probability_class_NoSide1)\n",
    "    min_probability_modelSide = min(probability_class_Side0, probability_class_Side1)\n",
    "    average_max_probability = (max_probability_modelNoSide + min_probability_modelSide) / 2.0\n",
    "    if average_max_probability >= 0.5 :\n",
    "        print(\"medication =\", prediction_medicamentNoside[0], \"does not have side effects with a probability of \",\n",
    "            average_max_probability )\n",
    "    else: \n",
    "        print(\"medication =\",1- prediction_medicamentNoside[0], \"does not have side effects with a probability of \",\n",
    "            1-average_max_probability )"
   ]
  },
  {
   "cell_type": "markdown",
   "id": "e4fa8034",
   "metadata": {},
   "source": [
    "# Approach 2 :"
   ]
  },
  {
   "cell_type": "markdown",
   "id": "d9bef241",
   "metadata": {},
   "source": [
    "In this approach, we will create a classification model that uses patient characteristics and the type of medication as independent variables to predict whether the patient will have side effects or not. Once the model is created, we will test new data using a loop that tries both medications. So, in the end, we will have the probability of not experiencing side effects with each medication."
   ]
  },
  {
   "cell_type": "code",
   "execution_count": 139,
   "id": "2235d1f6",
   "metadata": {},
   "outputs": [
    {
     "data": {
      "text/html": [
       "<style>#sk-container-id-10 {color: black;background-color: white;}#sk-container-id-10 pre{padding: 0;}#sk-container-id-10 div.sk-toggleable {background-color: white;}#sk-container-id-10 label.sk-toggleable__label {cursor: pointer;display: block;width: 100%;margin-bottom: 0;padding: 0.3em;box-sizing: border-box;text-align: center;}#sk-container-id-10 label.sk-toggleable__label-arrow:before {content: \"▸\";float: left;margin-right: 0.25em;color: #696969;}#sk-container-id-10 label.sk-toggleable__label-arrow:hover:before {color: black;}#sk-container-id-10 div.sk-estimator:hover label.sk-toggleable__label-arrow:before {color: black;}#sk-container-id-10 div.sk-toggleable__content {max-height: 0;max-width: 0;overflow: hidden;text-align: left;background-color: #f0f8ff;}#sk-container-id-10 div.sk-toggleable__content pre {margin: 0.2em;color: black;border-radius: 0.25em;background-color: #f0f8ff;}#sk-container-id-10 input.sk-toggleable__control:checked~div.sk-toggleable__content {max-height: 200px;max-width: 100%;overflow: auto;}#sk-container-id-10 input.sk-toggleable__control:checked~label.sk-toggleable__label-arrow:before {content: \"▾\";}#sk-container-id-10 div.sk-estimator input.sk-toggleable__control:checked~label.sk-toggleable__label {background-color: #d4ebff;}#sk-container-id-10 div.sk-label input.sk-toggleable__control:checked~label.sk-toggleable__label {background-color: #d4ebff;}#sk-container-id-10 input.sk-hidden--visually {border: 0;clip: rect(1px 1px 1px 1px);clip: rect(1px, 1px, 1px, 1px);height: 1px;margin: -1px;overflow: hidden;padding: 0;position: absolute;width: 1px;}#sk-container-id-10 div.sk-estimator {font-family: monospace;background-color: #f0f8ff;border: 1px dotted black;border-radius: 0.25em;box-sizing: border-box;margin-bottom: 0.5em;}#sk-container-id-10 div.sk-estimator:hover {background-color: #d4ebff;}#sk-container-id-10 div.sk-parallel-item::after {content: \"\";width: 100%;border-bottom: 1px solid gray;flex-grow: 1;}#sk-container-id-10 div.sk-label:hover label.sk-toggleable__label {background-color: #d4ebff;}#sk-container-id-10 div.sk-serial::before {content: \"\";position: absolute;border-left: 1px solid gray;box-sizing: border-box;top: 0;bottom: 0;left: 50%;z-index: 0;}#sk-container-id-10 div.sk-serial {display: flex;flex-direction: column;align-items: center;background-color: white;padding-right: 0.2em;padding-left: 0.2em;position: relative;}#sk-container-id-10 div.sk-item {position: relative;z-index: 1;}#sk-container-id-10 div.sk-parallel {display: flex;align-items: stretch;justify-content: center;background-color: white;position: relative;}#sk-container-id-10 div.sk-item::before, #sk-container-id-10 div.sk-parallel-item::before {content: \"\";position: absolute;border-left: 1px solid gray;box-sizing: border-box;top: 0;bottom: 0;left: 50%;z-index: -1;}#sk-container-id-10 div.sk-parallel-item {display: flex;flex-direction: column;z-index: 1;position: relative;background-color: white;}#sk-container-id-10 div.sk-parallel-item:first-child::after {align-self: flex-end;width: 50%;}#sk-container-id-10 div.sk-parallel-item:last-child::after {align-self: flex-start;width: 50%;}#sk-container-id-10 div.sk-parallel-item:only-child::after {width: 0;}#sk-container-id-10 div.sk-dashed-wrapped {border: 1px dashed gray;margin: 0 0.4em 0.5em 0.4em;box-sizing: border-box;padding-bottom: 0.4em;background-color: white;}#sk-container-id-10 div.sk-label label {font-family: monospace;font-weight: bold;display: inline-block;line-height: 1.2em;}#sk-container-id-10 div.sk-label-container {text-align: center;}#sk-container-id-10 div.sk-container {/* jupyter's `normalize.less` sets `[hidden] { display: none; }` but bootstrap.min.css set `[hidden] { display: none !important; }` so we also need the `!important` here to be able to override the default hidden behavior on the sphinx rendered scikit-learn.org. See: https://github.com/scikit-learn/scikit-learn/issues/21755 */display: inline-block !important;position: relative;}#sk-container-id-10 div.sk-text-repr-fallback {display: none;}</style><div id=\"sk-container-id-10\" class=\"sk-top-container\"><div class=\"sk-text-repr-fallback\"><pre>RandomForestClassifier(random_state=42)</pre><b>In a Jupyter environment, please rerun this cell to show the HTML representation or trust the notebook. <br />On GitHub, the HTML representation is unable to render, please try loading this page with nbviewer.org.</b></div><div class=\"sk-container\" hidden><div class=\"sk-item\"><div class=\"sk-estimator sk-toggleable\"><input class=\"sk-toggleable__control sk-hidden--visually\" id=\"sk-estimator-id-10\" type=\"checkbox\" checked><label for=\"sk-estimator-id-10\" class=\"sk-toggleable__label sk-toggleable__label-arrow\">RandomForestClassifier</label><div class=\"sk-toggleable__content\"><pre>RandomForestClassifier(random_state=42)</pre></div></div></div></div></div>"
      ],
      "text/plain": [
       "RandomForestClassifier(random_state=42)"
      ]
     },
     "execution_count": 139,
     "metadata": {},
     "output_type": "execute_result"
    }
   ],
   "source": [
    "# Séparation des caractéristiques (X) et de la variable cible (y)\n",
    "X = df[['Wb', 'Hb', 'sexe','medication']]\n",
    "y = df['Side_Effects']  # Variable cible : 0 ou 1 pour le médicament\n",
    "\n",
    "# Séparation des données en ensembles d'entraînement et de test\n",
    "X_train, X_test, y_train, y_test = train_test_split(X, y, test_size=0.2, random_state=42)\n",
    "\n",
    "# Création du modèle RandomForestClassifier\n",
    "model= RandomForestClassifier(random_state=42)\n",
    "\n",
    "# Entraînement du modèle sur les données d'entraînement\n",
    "model.fit(X_train, y_train)"
   ]
  },
  {
   "cell_type": "code",
   "execution_count": 140,
   "id": "0eb4a24c",
   "metadata": {},
   "outputs": [
    {
     "name": "stdout",
     "output_type": "stream",
     "text": [
      "for medication =  0 has no side effect with propability =  [0.66]\n",
      "for medication =  1 has no side effect with propability =  [0.37]\n"
     ]
    }
   ],
   "source": [
    "new_data = pd.DataFrame({\n",
    "    'Wb': [19.23],\n",
    "    'Hb': [20.15],\n",
    "    'sexe': [0],\n",
    "})\n",
    "\n",
    "# Create a list of values to test for 'new_medication' (0 and 1)\n",
    "medication_values = [0, 1]\n",
    "\n",
    "# Loop through the 'new_medication' values and make predictions\n",
    "for medication_value in medication_values:\n",
    "    new_data['medication'] = medication_value\n",
    "    predictions = model.predict(new_data)\n",
    "    \n",
    "    # Check if the prediction is 0\n",
    "    predict_proba = model.predict_proba(new_data) \n",
    "    print('for medication = ' ,medication_value,'has no side effect with propability = ', predict_proba[:, 0] )"
   ]
  }
 ],
 "metadata": {
  "kernelspec": {
   "display_name": "Python 3 (ipykernel)",
   "language": "python",
   "name": "python3"
  },
  "language_info": {
   "codemirror_mode": {
    "name": "ipython",
    "version": 3
   },
   "file_extension": ".py",
   "mimetype": "text/x-python",
   "name": "python",
   "nbconvert_exporter": "python",
   "pygments_lexer": "ipython3",
   "version": "3.9.13"
  }
 },
 "nbformat": 4,
 "nbformat_minor": 5
}
